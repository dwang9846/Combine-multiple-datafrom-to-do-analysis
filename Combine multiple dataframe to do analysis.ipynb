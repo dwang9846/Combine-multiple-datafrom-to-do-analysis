{
 "cells": [
  {
   "cell_type": "code",
   "execution_count": 1,
   "id": "496e7b39",
   "metadata": {},
   "outputs": [],
   "source": [
    "import pandas as pd"
   ]
  },
  {
   "cell_type": "code",
   "execution_count": 2,
   "id": "a9552098",
   "metadata": {},
   "outputs": [],
   "source": [
    "path1=\"G:/Commerce/Order Management/2020/2020 - All Shipments- Jan-Sep.xlsx\""
   ]
  },
  {
   "cell_type": "code",
   "execution_count": 1,
   "id": "794d97cf",
   "metadata": {},
   "outputs": [],
   "source": [
    "#Read Excel file1 into Python, all Sheets\n",
    "df1=pd.read_excel(path1,sheet_name=\"2020_All_Shipments\")\n",
    "df1.head()"
   ]
  },
  {
   "cell_type": "code",
   "execution_count": 11,
   "id": "7bf967ca",
   "metadata": {},
   "outputs": [],
   "source": [
    "#df1.columns=df1.columns.str.replace(\"_\",\"\")"
   ]
  },
  {
   "cell_type": "code",
   "execution_count": 2,
   "id": "ac2b447d",
   "metadata": {},
   "outputs": [],
   "source": [
    "print(df1.columns)"
   ]
  },
  {
   "cell_type": "code",
   "execution_count": 3,
   "id": "c01e1499",
   "metadata": {},
   "outputs": [],
   "source": [
    "#extract desired column information from df1\n",
    "country_list=[\"HK\",\"JP\",\"KR\",\"CN\",\"TW\",\"ID\",\"SG\"]\n",
    "criteria_1=df1[\"ShipToCountry\"].isin(country_list)\n",
    "df1_filtered=df1[criteria1]\n",
    "df1_filtered.GS.sum()\n",
    "\n",
    "#criteria.head()"
   ]
  },
  {
   "cell_type": "code",
   "execution_count": 35,
   "id": "81fdd3b5",
   "metadata": {},
   "outputs": [],
   "source": [
    "#Read Excel file2 into Python, all Sheets\n",
    "path2=\"G:/Commerce/Order Management/2020/2020 - All Shipments- Oct-Dec.xlsx\"\n",
    "df2=pd.read_excel(path2)"
   ]
  },
  {
   "cell_type": "code",
   "execution_count": 5,
   "id": "052edf90",
   "metadata": {},
   "outputs": [],
   "source": [
    "#df2.columns"
   ]
  },
  {
   "cell_type": "code",
   "execution_count": 6,
   "id": "95b57bbb",
   "metadata": {},
   "outputs": [],
   "source": [
    "#extract same column information from df2\n",
    "criteria_2=df2[\"ShipToCountry\"].isin(country_list)\n",
    "df2_filtered=df2[criteria_2]\n",
    "#df2_filtered.groupby(\"ShipToCountry\").sum().GS"
   ]
  },
  {
   "cell_type": "code",
   "execution_count": 44,
   "id": "198fbfba",
   "metadata": {},
   "outputs": [
    {
     "data": {
      "text/plain": [
       "563260.63"
      ]
     },
     "execution_count": 44,
     "metadata": {},
     "output_type": "execute_result"
    }
   ],
   "source": [
    "#conbine two dataframes into one\n",
    "df_combined=pd.concat([df1_filtered,df2_filtered],ignore_index=True)\n",
    "df_combined.GS.sum()"
   ]
  },
  {
   "cell_type": "code",
   "execution_count": 9,
   "id": "1fff38ee",
   "metadata": {},
   "outputs": [],
   "source": [
    "#unique value count of a column\n",
    "df_combined[\"CoA\"].value_counts()"
   ]
  },
  {
   "cell_type": "code",
   "execution_count": 11,
   "id": "75330779",
   "metadata": {},
   "outputs": [],
   "source": [
    "#remove unnecessary space fromcolumn value\n",
    "df_combined[\"CoA\"]=df_combined[\"CoA\"].str.strip()\n",
    "df_combined[\"CoA\"].value_counts()"
   ]
  },
  {
   "cell_type": "code",
   "execution_count": 62,
   "id": "91d67f48",
   "metadata": {},
   "outputs": [],
   "source": [
    "#group combined data frame by country and COA\n",
    "df_pivot=df_combined.groupby([\"ShipToCountry\",\"CoA\"])['GS'].sum()"
   ]
  },
  {
   "cell_type": "code",
   "execution_count": 64,
   "id": "70ddbbe7",
   "metadata": {},
   "outputs": [],
   "source": [
    "#export the analysis file to excel file\n",
    "df_pivot.to_excel('2020 sales order by Asian Country.xlsx')"
   ]
  }
 ],
 "metadata": {
  "kernelspec": {
   "display_name": "Python 3",
   "language": "python",
   "name": "python3"
  },
  "language_info": {
   "codemirror_mode": {
    "name": "ipython",
    "version": 3
   },
   "file_extension": ".py",
   "mimetype": "text/x-python",
   "name": "python",
   "nbconvert_exporter": "python",
   "pygments_lexer": "ipython3",
   "version": "3.8.8"
  }
 },
 "nbformat": 4,
 "nbformat_minor": 5
}
